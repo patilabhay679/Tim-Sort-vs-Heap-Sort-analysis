{
 "cells": [
  {
   "cell_type": "code",
   "execution_count": 1,
   "metadata": {},
   "outputs": [
    {
     "name": "stdout",
     "output_type": "stream",
     "text": [
      "ram used :80.04 MB\n",
      "ram used :114.25 MB\n"
     ]
    }
   ],
   "source": [
    "#heapsort\n",
    "\n",
    "import os,psutil\n",
    "process = psutil.Process(os.getpid())\n",
    "\n",
    "#ram check before execution\n",
    "mem = process.memory_info()[0] / float(2 ** 20)\n",
    "print(f'ram used before :{mem:.2f} MB')\n",
    "\n",
    "# Python program for implementation of heap Sort\n",
    "# To heapify subtree rooted at index i.\n",
    "# n is size of heap\n",
    "\n",
    "def heapify(arr, n, i):\n",
    "\tlargest = i # Initialize largest as root\n",
    "\tl = 2 * i + 1\t # left = 2*i + 1\n",
    "\tr = 2 * i + 2\t # right = 2*i + 2\n",
    "\n",
    "\t# See if left child of root exists and is\n",
    "\t# greater than root\n",
    "\tif l < n and arr[largest] < arr[l]:\n",
    "\t\tlargest = l\n",
    "\n",
    "\t# See if right child of root exists and is\n",
    "\t# greater than root\n",
    "\tif r < n and arr[largest] < arr[r]:\n",
    "\t\tlargest = r\n",
    "\n",
    "\t# Change root, if needed\n",
    "\tif largest != i:\n",
    "\t\tarr[i], arr[largest] = arr[largest], arr[i] # swap\n",
    "\n",
    "\t\t# Heapify the root.\n",
    "\t\theapify(arr, n, largest)\n",
    "\n",
    "# The main function to sort an array of given size\n",
    "\n",
    "\n",
    "def heapSort(arr):\n",
    "\tn = len(arr)\n",
    "\n",
    "\t# Build a maxheap.\n",
    "\tfor i in range(n//2 - 1, -1, -1):\n",
    "\t\theapify(arr, n, i)\n",
    "\n",
    "\t# One by one extract elements\n",
    "\tfor i in range(n-1, 0, -1):\n",
    "\t\tarr[i], arr[0] = arr[0], arr[i] # swap\n",
    "\t\theapify(arr, i, 0)\n",
    "\n",
    "\n",
    "# Driver code\n",
    "arr = list(range(999999))\n",
    "heapSort(arr)\n",
    "\n",
    "#ram check after execution\n",
    "mem = process.memory_info()[0] / float(2 ** 20)\n",
    "print(f'ram used after :{mem:.2f} MB')"
   ]
  }
 ],
 "metadata": {
  "interpreter": {
   "hash": "b3b12d6a7aa3da3563cd7fdc2424cdaca53fc186fc2a8ac469f0bbb469a022b9"
  },
  "kernelspec": {
   "display_name": "Python 3.9.9 64-bit",
   "language": "python",
   "name": "python3"
  },
  "language_info": {
   "codemirror_mode": {
    "name": "ipython",
    "version": 3
   },
   "file_extension": ".py",
   "mimetype": "text/x-python",
   "name": "python",
   "nbconvert_exporter": "python",
   "pygments_lexer": "ipython3",
   "version": "3.9.9"
  },
  "orig_nbformat": 4
 },
 "nbformat": 4,
 "nbformat_minor": 2
}
